{
 "cells": [
  {
   "cell_type": "markdown",
   "metadata": {},
   "source": [
    "# W01 (1): The Terminal 💻\n",
    "\n",
    "### What Is The Terminal?\n",
    "\n",
    "> It is a text based interface for the user to interact with functions and operations in a a computer\n",
    "   \n",
    "> It contains a variety of unique commmands to navigate the operating system (Mac, Linux, Windows)\n",
    "\n",
    "# W01 (2): Terminal Navigation 🗺️\n",
    "\n",
    "   ***for Mac/Linux***\n",
    "\n",
    "**Navigation**\n",
    "\n",
    "| Code            | Function                            |\n",
    "|------           |----------                           |\n",
    "|cd[directory]    |Change Directory                     |\n",
    "|cd ~             |Navigate to Home Directory           |\n",
    "|cd ../../        |Navigate up Two Directories          | \n",
    "|open[file]       |Open a file                          |\n",
    "|ls               |List Files & Directories             |\n",
    "|ls ~/filepath    |List Files Without Changing Directory| \n",
    "|pwd              |Print Working Directory              |\n",
    "|mkdir[directory] |Create New Directory                 |\n",
    "|touch[file]      |Create File                          |\n",
    "|rm[file]         |Remove File                          |\n",
    "|rm -r [directory]|Remove Directory & Contents          |\n",
    "\n",
    "**File Operations**\n",
    "\n",
    "| Code                   | Function                       |\n",
    "|---                     |---                             |\n",
    "|cat[file]               |Display Contents of File        |\n",
    "|cp[source][destination] |Copy File or Directory          |\n",
    "|mv[source][destination] |Move or Rename File or Directory|\n",
    "|grep[pattern][file]     |Search for Pattern in File      |\n",
    "|chmod[permissions][file]|Change File Permissions         |\n",
    "\n",
    "**Process Management**\n",
    "\n",
    "| Code    | Function                                      |\n",
    "|---      |---                                            |\n",
    "|ps       |List Running Processes                         |\n",
    "|kill[PID]|Terminate a Process                            |\n",
    "|top      |Display System Activity and Process Information|\n"
   ]
  }
 ],
 "metadata": {
  "kernelspec": {
   "display_name": "base",
   "language": "python",
   "name": "python3"
  },
  "language_info": {
   "name": "python",
   "version": "3.11.8"
  }
 },
 "nbformat": 4,
 "nbformat_minor": 2
}

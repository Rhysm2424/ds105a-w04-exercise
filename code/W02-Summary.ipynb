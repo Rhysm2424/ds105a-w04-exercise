{
 "cells": [
  {
   "cell_type": "markdown",
   "metadata": {},
   "source": [
    "# W02 (1): Coding History on Nuvolos 📸\n",
    "\n",
    "### How Did We Submit Assignments via Nuvolos?\n",
    "\n",
    "***Commands below will be applicable to the terminal***\n",
    "\n",
    "> *print-history > ./filepath/filename.filetype*\n",
    "\n",
    "   - Exports bash history to a file (we used a .csv file - Comma Separated Values)\n",
    "\n",
    "   - '>' is used to redirect output of the 'print-history' command to a new file\n",
    "\n",
    "      *ensure that you are in the correct directory!!!*\n",
    "# \n",
    "\n",
    "> *less filename.filetype*\n",
    "\n",
    "   - Command used to scroll through a file\n",
    "\n",
    "   - Use arrow keys to navigate and q to exit\n",
    "# \n",
    "\n",
    "> *head file_name.file_type* ***or*** *tail file_name.file_type*\n",
    "\n",
    "   - 'head' views the start of a file (10 lines)\n",
    "\n",
    "   - 'tail' views the end of a file (10 lines)\n",
    "\n",
    "   - ' -n 5 ' added after the 'head' command will displace the first 5 lines only\n",
    "# \n",
    "\n",
    "> *wc -l file_name.file_type* ***or*** *wc -w file_name.file_type*\n",
    "\n",
    "   - counts the number of lines or words respectively\n",
    "# \n",
    "\n",
    "> *greb -c 'ls' file_name.file_type*\n",
    "\n",
    "   - greb command allows to search for a particular commands (in this case it is 'ls')\n",
    "\n",
    "   - The '-c' flag tells the command to count the number of lines where the command occurs\n",
    "\n",
    "   - If '-i' flag is used, the command becomes case insensitive\n",
    "#  \n",
    "\n",
    "> *uniq -c*\n",
    "\n",
    "   - Returns the count of each command that has been run\n",
    "\n",
    "     *uniq will only count adjacent lines! Data needs to be sorted!*\n",
    "# \n",
    "\n",
    "> *sort file_name.file_type | uniq -c*\n",
    "\n",
    "   - Sorts the entire file ***HOWEVER*** we may want to sort by command, not the whole code input\n",
    "\n",
    "   - 'sort -n' or 'sort -nr' will sort by number of times the command has been run or put the top commands at the start of the list\n",
    "# \n",
    "\n",
    "> *cut -d , -f 3 file_name.file_type | cut -f 2 d ' '*\n",
    "\n",
    "   - This will extract sections of each line using a comma as a delimeter and the field number is 3\n",
    "\n",
    "   - The second cut command will cut the second field using a space as the delimeter\n"
   ]
  },
  {
   "cell_type": "markdown",
   "metadata": {},
   "source": [
    "# W02 (2): Performing Commands on a Text File 📢\n",
    "\n",
    "***In this section, I will perform a series of commands on the opening chapter of Harry Potter and the Philisopher's Stone using Python***"
   ]
  },
  {
   "cell_type": "markdown",
   "metadata": {},
   "source": [
    "#### 1. Read a File and Store the Text in a Variable 📖\n",
    "\n",
    "> 📝*Note that the output of the variable 'content' is in a string format without any spaces*"
   ]
  },
  {
   "cell_type": "code",
   "execution_count": 125,
   "metadata": {},
   "outputs": [
    {
     "data": {
      "text/plain": [
       "'Mr. and Mrs. Dursley, of number four, Privet Drive, were proud to say that they were perfectly normal, thank you very much. They were the last people you’d expect to be involved in anything strange or mysterious, because they just didn’t hold with such nonsense.\\n\\nMr. Dursley was the director of a ﬁrm called Grunnings, which made drills. He was a big, beefy man with hardly any neck, although he did have a very large mustache. Mrs. Dursley was thin and blonde and had nearly twice the usual amount of neck, which came in very useful as she spent so much of her time craning over garden fences, spying on the neighbors. The Dursleys had a small son called Dudley and in their opinion there was no ﬁner boy anywhere.\\n\\nThe Dursleys had everything they wanted, but they also had a secret, and their greatest fear was that somebody would discover it. They didn’t think they could bear it if anyone found out about the Potters. Mrs. Potter was Mrs. Dursley’s sister, but they hadn’t met for several years; in fact, Mrs. Dursley pretended she didn’t have a sister, because her sister and her good-for-nothing husband were as unDursleyish as it was possible to be. The Dursleys shuddered to think what the neighbors would say if the Potters arrived in the street. The Dursleys knew that the Potters had a small son, too, but they had never even seen him. This boy was another good reason for keeping the Potters away; they didn’t want Dudley mixing with a child like that.\\n\\nWhen Mr. and Mrs. Dursley woke up on the dull, gray Tuesday our story starts, there was nothing about the cloudy sky outside to suggest that strange and mysterious things would soon be happening all over the country. Mr. Dursley hummed as he picked out his most boring tie for work, and Mrs. Dursley gossiped away happily as she wrestled a screaming Dudley into his high chair.\\n\\nNone of them noticed a large, tawny owl ﬂutter past the window.\\n\\nAt half past eight, Mr. Dursley picked up his briefcase, pecked Mrs. Dursley on the cheek, and tried to kiss Dudley good-bye but missed, because Dudley was now having a tantrum and throwing his cereal at the walls. “Little tyke,” chortled Mr. Dursley as he left the house. He got into his car and backed out of number four’s drive.\\n\\nIt was on the corner of the street that he noticed the ﬁrst sign of something peculiar — a cat reading a map. For a second, Mr. Dursley didn’t realize what he had seen — then he jerked his head around to look again. There was a tabby cat standing on the corner of Privet Drive, but there wasn’t a map in sight. What could he have been thinking of? It must have been a trick of the light. Mr. Dursley blinked and stared at the cat. It stared back. As Mr. Dursley drove around the corner and up the road, he watched the cat in his mirror. It was now reading the sign that said Privet Drive — no, looking at the sign; cats couldn’t read maps or signs. Mr. Dursley gave himself a little shake and put the cat out of his mind. As he drove toward town he thought of nothing except a large order of drills he was hoping to get that day.\\n\\nBut on the edge of town, drills were driven out of his mind by something else. As he sat in the usual morning traﬃc jam, he couldn’t help noticing that there seemed to be a lot of strangely dressed people about. People in cloaks. Mr. Dursley couldn’t bear people who dressed in funny clothes — the getups you saw on young people! He supposed this was some stupid new fashion. He drummed his ﬁngers on the steering wheel and his eyes fell on a huddle of these weirdos standing quite close by. They were whispering excitedly together. Mr. Dursley was enraged to see that a couple of them weren’t young at all; why, that man had to be older than he was, and wearing an emerald-green cloak! The nerve of him! But then it struck Mr. Dursley that this was probably some silly stunt — these people were obviously collecting for something . . . yes, that would be it. The traﬃc moved on and a few minutes later, Mr. Dursley arrived in the Grunnings parking lot, his mind back on drills.\\n\\nMr. Dursley always sat with his back to the window in his oﬃce on the ninth ﬂoor. If he hadn’t, height have found it harder to concentrate on drills that morning. He didn’t see the owls swooping past in broad daylight, though people down in the street did; they pointed and gazed open-mouthed as owl after owl sped overhead. Most of them had never seen an owl even at nighttime. Mr. Dursley, however, had a perfectly normal, owl-free morning. He yelled at ﬁve diﬀerent people. He made several important telephone calls and shouted a bit more. He was in a very good mood until lunchtime, when he thought he’d stretch his legs and walk across the road to buy himself a bun from the bakery.\\n\\nHe’d forgotten all about the people in cloaks until he passed a group of them next to the baker’s. He eyed them angrily as he passed. He didn’t know why, but they made him uneasy. This bunch were whispering excitedly, too, and he couldn’t see a single collecting tin. It was on his way back past them, clutching a large doughnut in a bag, that he caught a few words of what they were saying.\\n\\n“The Potters, that’s right, that’s what I heard —”\\n\\n“— yes, their son, Harry —”\\n\\nMr. Dursley stopped dead. Fear ﬂooded him. He looked back at the whisperers as if he wanted to say something to them, but thought better of it.\\n\\nHe dashed back across the road, hurried up to his oﬃce, snapped at his secretary not to disturb him, seized his telephone, and had almost ﬁnished dialing his home number when he changed his mind. He put the receiver back down and stroked his mustache, thinking . . . no, he was being stupid. Potter wasn’t such an unusual name. He was sure there were lots of people called Potter who had a son called Harry. Come to think of it, he wasn’t even sure his nephew was called Harry. He’d never even seen the boy. It might have been Harvey. Or Harold. There was no point in worrying Mrs. Dursley; she always got so upset at any mention of her sister. He didn’t blame her — if he’ d had a sister like that . . . but all the same, those people in cloaks . . .\\n\\nHe found it a lot harder to concentrate on drills that afternoon and when he left the building at ﬁve o’clock, he was still so worried that he walked straight into someone just outside the door.\\n\\n“Sorry,” he grunted, as the tiny old man stumbled and almost fell. It was a few seconds before Mr. Dursley realized that the man was wearing a violet cloak. He didn’t seem at all upset at being almost knocked to the ground. On the contrary, his face split into a wide smile and he said in a squeaky voice that made passersby stare, “Don’t be sorry, my dear sir, for nothing could upset me today! Rejoice, for You-Know-Who has gone at last! Even Muggles like yourself should be celebrating, this happy, happy day!”\\n\\nAnd the old man hugged Mr. Dursley around the middle and walked oﬀ.\\n\\nMr. Dursley stood rooted to the spot. He had been hugged by a complete stranger. He also thought he had been called a Muggle, whatever that was. He was rattled. He hurried to his car and set oﬀ for home, hoping he was imagining things, which he had never hoped before, because he didn’t approve of imagination.\\n\\nAs he pulled into the driveway of number four, the ﬁrst thing he saw — and it didn’t improve his mood — was the tabby cat he’d spotted that morning. It was now sitting on his garden wall. He was sure it was the same one; it had the same markings around its eyes.\\n\\n“Shoo!” said Mr. Dursley loudly.\\n\\nThe cat didn’t move. It just gave him a stern look. Was this normal cat behavior? Mr. Dursley wondered. Trying to pull himself together, he let himself into the house. He was still determined not to mention anything to his wife.\\n\\nMrs. Dursley had had a nice, normal day. She told him over dinner all about Mrs. Next Door’s problems with her daughter and how Dudley had learned a new word (“Won’t!”). Mr. Dursley tried to act normally. When Dudley had been put to bed, he went into the living room in time to catch the last report on the evening news:\\n\\n“And ﬁnally, bird-watchers everywhere have reported that the nation’s owls have been behaving very unusually today. Although owls normally hunt at night and are hardly ever seen in daylight, there have been hundreds of sightings of these birds ﬂying in every direction since sunrise. Experts are unable to explain why the owls have suddenly changed their sleeping pattern.” The newscaster allowed himself a grin. “Most mysterious. And now, over to Jim McGuﬃn with the weather. Going to be any more showers of owls tonight, Jim?”\\n\\n“Well, Ted,” said the weatherman, “I don’t know about that, but it’s not only the owls that have been acting oddly today. Viewers as far apart as Kent, Yorkshire, and Dundee have been phoning in to tell me that instead of the rain I promised yesterday, they’ve had a downpour of shooting stars! Perhaps people have been celebrating Bonﬁre Night early — it’s not until next week, folks! But I can promise a wet night tonight.”\\n\\nMr. Dursley sat frozen in his armchair. Shooting stars all over Britain? Owls ﬂying by daylight? Mysterious people in cloaks all over the place? And a whisper, a whisper about the Potters . . .\\n\\nMrs. Dursley came into the living room carrying two cups of tea. It was no good. He’d have to say something to her. He cleared his throat nervously. “Er — Petunia, dear — you haven’t heard from your sister lately, have you?”\\n\\nAs he had expected, Mrs. Dursley looked shocked and angry. After all, they normally pretended she didn’t have a sister.\\n\\n“No,” she said sharply. “Why?”\\n\\n“Funny stuﬀ on the news,” Mr. Dursley mumbled. “Owls . . . shooting stars . . . and there were a lot of funny-looking people in town today . . .”\\n\\n“So?” snapped Mrs. Dursley.\\n\\n“Well, I just thought . . . maybe . . . it was something to do with . . . you know . . . her crowd.”\\n\\nMrs. Dursley sipped her tea through pursed lips. Mr. Dursley wondered whether he dared tell her he’d heard the name “Potter.” He decided he didn’t dare. Instead he said, as casually as he could, “Their son — he’d be about Dudley’s age now, wouldn’t he?”\\n\\n“I suppose so,” said Mrs. Dursley stiﬄy.\\n\\n“What’s his name again? Howard, isn’t it?”\\n\\n“Harry. Nasty, common name, if you ask me.”\\n\\n“Oh, yes,” said Mr. Dursley, his heart sinking horribly. “Yes, I quite agree.”\\n\\nHe didn’t say another word on the subject as they went upstairs to bed. While Mrs. Dursley was in the bathroom, Mr. Dursley crept to the bedroom window and peered down into the front garden. The cat was still there. It was staring down Privet Drive as though it were waiting for something.\\n\\nWas he imagining things? Could all this have anything to do with the Potters? If it did . . . if it got out that they were related to a pair of — well, he didn’t think he could bear it.\\n\\nThe Dursleys got into bed. Mrs. Dursley fell asleep quickly but Mr. Dursley lay awake, turning it all over in his mind. His last, comforting thought before he fell asleep was that even if the Potters were involved, there was no reason for them to come near him and Mrs. Dursley. The Potters knew very well what he and Petunia thought about them and their kind. . . . He couldn’t see how he and Petunia could get mixed up in anything that might be going on — he yawned and turned over — it couldn’t aﬀect them. . . .\\n\\nHow very wrong he was.\\n\\nMr. Dursley might have been drifting into an uneasy sleep, but the cat on the wall outside was showing no sign of sleepiness. It was sitting as still as a statue, its eyes ﬁxed unblinkingly on the far corner of Privet Drive. It didn’t so much as quiver when a car door slammed on the next street, nor when two owls swooped overhead. In fact, it was nearly midnight before the cat moved at all.\\n\\nA man appeared on the corner the cat had been watching, appeared so suddenly and silently you’d have thought he’d just popped out of the ground. The cat’s tail twitched and its eyes narrowed.\\n\\nNothing like this man had ever been seen on Privet Drive. He was tall, thin, and very old, judging by the silver of his hair and beard, which were both long enough to tuck into his belt. He was wearing long robes, a purple cloak that swept the ground, and high-heeled, buckled boots. His blue eyes were light, bright, and sparkling behind half-moon spectacles and his nose was very long and crooked, as though it had been broken at least twice. This man’s name was Albus Dumbledore.\\n\\nAlbus Dumbledore didn’t seem to realize that he had just arrived in a street where everything from his name to his boots was unwelcome. He was busy rummaging in his cloak, looking for something. But he did seem to realize he was being watched, because he looked up suddenly at the cat, which was still staring at him from the other end of the street. For some reason, the sight of the cat seemed to amuse him. He chuckled and muttered, “I should have known.”\\n\\nHe found what he was looking for in his inside pocket. It seemed to be a silver cigarette lighter. He ﬂicked it open, held it up in the air, and clicked it. The nearest street lamp went out with a little pop. He clicked it again — the next lamp ﬂickered into darkness. Twelve times he clicked the Put-Outer, until the only lights left on the whole street were two tiny pinpricks in the distance, which were the eyes of the cat watching him. If anyone looked out of their window now, even beady-eyed Mrs. Dursley, they wouldn’t be able to see anything that was happening down on the pavement. Dumbledore slipped the Put-Outer back inside his cloak and set oﬀ down the street toward number four, where he sat down on the wall next to the cat. He didn’t look at it, but after a moment he spoke to it.\\n\\n“Fancy seeing you here, Professor McGonagall.”\\n\\nHe turned to smile at the tabby, but it had gone. Instead he was smiling at a rather severe-looking woman who was wearing square glasses exactly the shape of the markings the cat had had around its eyes. She, too, was wearing a cloak, an emerald one. Her black hair was drawn into a tight bun. She looked distinctly ruﬄed.\\n\\n“How did you know it was me?” she asked.\\n\\n“My dear Professor, I’ve never seen a cat sit so stiﬄy.”\\n\\n“You’d be stiﬀ if you’d been sitting on a brick wall all day,” said Professor McGonagall.\\n\\n“All day? When you could have been celebrating? I must have passed a dozen feasts and parties on my way here.”\\n\\nProfessor McGonagall sniﬀed angrily.\\n\\n“Oh yes, everyone’s celebrating, all right,” she said impatiently. “You’d think they’d be a bit more careful, but no — even the Muggles have noticed something’s going on. It was on their news.” She jerked her head back at the Dursleys’ dark living-room window. “I heard it. Flocks of owls . . . shooting stars. . . . Well, they’re not completely stupid. They were bound to notice something. Shooting stars down in Kent — I’ll bet that was Dedalus Diggle. He never had much sense.”\\n\\n“You can’t blame them,” said Dumbledore gently. “We’ve had precious little to celebrate for eleven years.”\\n\\n“I know that,” said Professor McGonagall irritably. “But that’s no reason to lose our heads. People are being downright careless, out on the streets in broad daylight, not even dressed in Muggle clothes, swapping rumors.”\\n\\nShe threw a sharp, sideways glance at Dumbledore here, as though hoping he was going to tell her something, but he didn’t, so she went on. “A ﬁne thing it would be if, on the very day YouKnow-Who seems to have disappeared at last, the Muggles found out about us all. I suppose he really has gone, Dumbledore?”\\n\\n“It certainly seems so,” said Dumbledore. “We have much to be thankful for. Would you care for a lemon drop?”\\n\\n“A what?”\\n\\n“A lemon drop. They’re a kind of Muggle sweet I’m rather fond of.”\\n\\n“No, thank you,” said Professor McGonagall coldly, as though she didn’t think this was the moment for lemon drops. “As I say, even if You-Know-Who has gone —”\\n\\n“My dear Professor, surely a sensible person like yourself can call him by his name? All this ‘You-Know-Who’ nonsense — for eleven years I have been trying to persuade people to call him by his proper name: Voldemort.” Professor McGonagall ﬂinched, but Dumbledore, who was unsticking two lemon drops, seemed not to notice. “It all gets so confusing if we keep saying ‘You-Know-Who.’ I have never seen any reason to be frightened of saying Voldemort’s name.”\\n\\n“I know you haven’t,” said Professor McGonagall, sounding half exasperated, half admiring. “But you’re diﬀerent. Everyone knows you’re the only one You-Know- oh, all right, Voldemort, was frightened of.”\\n\\n“You ﬂatter me,” said Dumbledore calmly. “Voldemort had powers I will never have.”\\n\\n“Only because you’re too — well — noble to use them.”\\n\\n“It’s lucky it’s dark. I haven’t blushed so much since Madam Pomfrey told me she liked my new earmuﬀs.”\\n\\nProfessor McGonagall shot a sharp look at Dumbledore and said, “The owls are nothing next to the rumors that are ﬂying around. You know what everyone’s saying? About why he’s disappeared? About what ﬁnally stopped him?”\\n\\nIt seemed that Professor McGonagall had reached the point she was most anxious to discuss, the real reason she had been waiting on a cold, hard wall all day, for neither as a cat nor as a woman had she ﬁxed Dumbledore with such a piercing stare as she did now. It was plain that whatever “everyone” was saying, she was not going to believe it until Dumbledore told her it was true. Dumbledore, however, was choosing another lemon drop and did not answer.\\n\\n“What they’re saying,” she pressed on, “is that last night Voldemort turned up in Godric’s Hollow. He went to ﬁnd the Potters. The rumor is that Lily and James Potter are — are — that they’re — dead.”\\n\\nDumbledore bowed his head. Professor McGonagall gasped.\\n\\n“Lily and James . . . I can’t believe it . . . I didn’t want to believe it . . . Oh, Albus . . .”\\n\\nDumbledore reached out and patted her on the shoulder. “I know . . . I know . . .” he said heavily.'"
      ]
     },
     "execution_count": 125,
     "metadata": {},
     "output_type": "execute_result"
    }
   ],
   "source": [
    "with open ('../data/Harry-Potter-Text.csv', 'r') as file:\n",
    "    content = file.read()\n",
    "\n",
    "content"
   ]
  },
  {
   "cell_type": "markdown",
   "metadata": {},
   "source": [
    "#### 2. Perform Line Operations on the File 🩺\n",
    "\n",
    "> 📝*Note:*\n",
    "        \n",
    "> *len() is the Python equivalent of the wc -l command in the Terminal*\n",
    "\n",
    "> *The first element is always 0*\n"
   ]
  },
  {
   "cell_type": "code",
   "execution_count": 126,
   "metadata": {},
   "outputs": [
    {
     "name": "stdout",
     "output_type": "stream",
     "text": [
      "141\n"
     ]
    },
    {
     "data": {
      "text/plain": [
       "'say'"
      ]
     },
     "execution_count": 126,
     "metadata": {},
     "output_type": "execute_result"
    }
   ],
   "source": [
    "#Split 'content' by new lines:\n",
    "lines = content.split('\\n')\n",
    "\n",
    "#Split 'content' by spaces:\n",
    "words = content.split(' ')\n",
    "\n",
    "#Find out how many lines there are in variable 'lines':\n",
    "print(len(lines))\n",
    "\n",
    "#Return the twelth word in 'words':\n",
    "words[12]"
   ]
  },
  {
   "cell_type": "code",
   "execution_count": 127,
   "metadata": {},
   "outputs": [
    {
     "data": {
      "text/plain": [
       "['Mr. and Mrs. Dursley, of number four, Privet Drive, were proud to say that they were perfectly normal, thank you very much. They were the last people you’d expect to be involved in anything strange or mysterious, because they just didn’t hold with such nonsense.',\n",
       " '',\n",
       " 'Mr. Dursley was the director of a ﬁrm called Grunnings, which made drills. He was a big, beefy man with hardly any neck, although he did have a very large mustache. Mrs. Dursley was thin and blonde and had nearly twice the usual amount of neck, which came in very useful as she spent so much of her time craning over garden fences, spying on the neighbors. The Dursleys had a small son called Dudley and in their opinion there was no ﬁner boy anywhere.']"
      ]
     },
     "execution_count": 127,
     "metadata": {},
     "output_type": "execute_result"
    }
   ],
   "source": [
    "#Return the first three lines in 'lines':\n",
    "lines[:3]"
   ]
  },
  {
   "cell_type": "code",
   "execution_count": 128,
   "metadata": {},
   "outputs": [
    {
     "data": {
      "text/plain": [
       "['know', '.', '.', '.”', 'he', 'said', 'heavily.']"
      ]
     },
     "execution_count": 128,
     "metadata": {},
     "output_type": "execute_result"
    }
   ],
   "source": [
    "#Return the last 7 words in 'words':\n",
    "words[-7:]"
   ]
  },
  {
   "cell_type": "markdown",
   "metadata": {},
   "source": [
    "# W03 (3): Converting Text Files to a Dictionary 📚\n",
    "\n",
    "***Following line operations on the text file, the code below converts the text to a dictionary***"
   ]
  },
  {
   "cell_type": "code",
   "execution_count": 129,
   "metadata": {},
   "outputs": [
    {
     "name": "stdout",
     "output_type": "stream",
     "text": [
      "['Mr', 'and Mrs', 'Dursley, of number four, Privet Drive, were proud to say that they were perfectly normal, thank you very much', 'They were the last people you’d expect to be involved in anything strange or mysterious, because they just didn’t hold with such nonsense.']\n"
     ]
    }
   ],
   "source": [
    "#splits 'lines' by full stops and stores this in 'fields':\n",
    "fields = lines[0].split('. ')\n",
    "print (fields)"
   ]
  },
  {
   "cell_type": "code",
   "execution_count": 130,
   "metadata": {},
   "outputs": [
    {
     "name": "stdout",
     "output_type": "stream",
     "text": [
      "{'line 1': 'Mr',\n",
      " 'line 2': 'and Mrs',\n",
      " 'line 3': 'Dursley, of number four, Privet Drive, were proud to say that they '\n",
      "           'were perfectly normal, thank you very much',\n",
      " 'line 4': 'They were the last people you’d expect to be involved in anything '\n",
      "           'strange or mysterious, because they just didn’t hold with such '\n",
      "           'nonsense.'}\n"
     ]
    }
   ],
   "source": [
    "'''calling pprint module allows the dictionary to be printed on several lines rather than just 1\n",
    "\n",
    "        There are 4 entries within fields and the dictionary stores each entry to a line number\n",
    "\n",
    "        The dictionary is then printed using pprint (Pretty Print)\n",
    "\n",
    "'''\n",
    "\n",
    "from pprint import pprint\n",
    "\n",
    "dictionary = {\n",
    "    'line 1': fields[0],\n",
    "    'line 2': fields[1],\n",
    "    'line 3': fields[2],\n",
    "    'line 4': fields[3],\n",
    "}\n",
    "\n",
    "pprint(dictionary)"
   ]
  },
  {
   "cell_type": "markdown",
   "metadata": {},
   "source": [
    "# W02 (4): Using 'nano' Command for Text Editing ✏️\n",
    "\n",
    "📝***Note:***\n",
    "\n",
    "***This assumes that you are inside the code directory in the terminal***\n",
    "\n",
    "> *nano ../data/Python-Commands.py*\n",
    "\n",
    "   - Type this into the terminal and make changes in nano format as you see fit\n",
    "\n",
    "   - CONTROL + X and 'Y' to save changes\n",
    "\n",
    "   - *'python ../data/Python-Commands.py'* in the terminal to run the Python Code"
   ]
  }
 ],
 "metadata": {
  "kernelspec": {
   "display_name": "base",
   "language": "python",
   "name": "python3"
  },
  "language_info": {
   "codemirror_mode": {
    "name": "ipython",
    "version": 3
   },
   "file_extension": ".py",
   "mimetype": "text/x-python",
   "name": "python",
   "nbconvert_exporter": "python",
   "pygments_lexer": "ipython3",
   "version": "3.11.8"
  }
 },
 "nbformat": 4,
 "nbformat_minor": 2
}
